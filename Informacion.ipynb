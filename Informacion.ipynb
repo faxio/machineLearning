{
 "cells": [
  {
   "attachments": {},
   "cell_type": "markdown",
   "metadata": {},
   "source": [
    "### ¿Qué es machine learning?"
   ]
  },
  {
   "attachments": {},
   "cell_type": "markdown",
   "metadata": {},
   "source": [
    "* Ciencia que hace que los ordenadores “aprendan” a partir de los datos\n",
    "* El programa toma ejemplos que son llamados **training set** para aprender\n",
    "* Cada **training example** es llamado **training instance**\n",
    "* La parte del machine learning que se encarga de aprender y entregar predicciones se llama **model**\n",
    "* Redes neuronales y arboles aleatorios son ejemplos de modelos.\n",
    "* Para saber la calidad del modelo existe un indicador llamado **accuracy**\n"
   ]
  },
  {
   "attachments": {},
   "cell_type": "markdown",
   "metadata": {},
   "source": [
    "### ¿Por qué utilizar machine learning?"
   ]
  },
  {
   "attachments": {},
   "cell_type": "markdown",
   "metadata": {},
   "source": [
    "Supongamos que quiere escribir un programa que filtre si un correo es spam, para hacerlo haría más o menos lo siguiente.\n",
    "* Primero veriamos como es un mensaje de spam, buscando patrónes\n",
    "* Escribiriamos un algoritmo de detección por cada patrón que encuentre\n",
    "* Testeariamos el programa, repitiendo el primer y segundo paso y luego lo lanzarimos\n",
    "\n",
    "El programa se volvería complejo, tendría muchas reglas complicadas, lo que lo haría difícil de mantener\n",
    "\n",
    "En contraste, con un detector de spam basado en técnicas de machine learning  \n",
    "Automáticamente aprendería que palabras y frases son buenas para crear una predicción de spam. Detectando patrónes inusuales en palabras utilizadas para entrenarlo. Comparado con el ejemplo anterior. El programa es mucho más corto, más facíl de mantener y con mejores resultados\n",
    "\n",
    "¿Qué sucedería si el spammer recibe la noticia de que los emails que contienen \"4U\" son bloqueados?  \n",
    "El spammer intentaría escribir \"Cuatro U\". En el caso tradicional tendríamos que modificar el código y agregar la nueva bandera \"Cuatro U\". Si los spammers empiezan a trabajar sobre el algoritmo, Habrá que modificar el código para siempre.\n",
    "\n",
    "En contraste, Un filtrador de Spam basado en técnicas de machine learning automáticamente reconoce que \"Cuatro U\" es  un inusual patrón que los usuarios pueden etiquetar, Lo que provoca que se detecte sin nuestra intervención"
   ]
  },
  {
   "attachments": {},
   "cell_type": "markdown",
   "metadata": {},
   "source": [
    "Para resumir, machine learning es bueno para:\n",
    "\n",
    "* Problemas que tienen soluciones que implican una larga lista de reglas.\n",
    "* Problemas complejos que con soluciones tradicional tienen un desempeño no muy bueno\n",
    "* Entornos cambiantes\n",
    "* Tomar eventos sobre problemas complejos y grandes cantidades de información"
   ]
  },
  {
   "attachments": {},
   "cell_type": "markdown",
   "metadata": {},
   "source": [
    "**Algunos ejemplos de tareas de machine learning**:\n",
    "\n",
    "* Analizar imagnes de productos que pertenecne a una línea de producción, para posteriormente clasificarlos (usualmente redes neuronales convolusionales )\n",
    "* Detectar tumores en scaneos de cerebros (usualmente redes neuronales convolusionales también conocidos como CNNs)\n",
    "* Clasificación automática de nuevos artículos (Natural language processing NLP o CNNs como también redes neuronales recurrentes RNNs)\n",
    "* Detectar automáticamente comentarios ofensivos en discusiones de foros. (NLP)\n",
    "* Resumir grandes documentos automáticamente. (NLP)\n",
    "* Crear un chatbot o un asistente personal. (NLP y también Natural language understanding NLU)\n",
    "* Pronostico de ingresos para el próximo año, basado en diferentes metricas de desempeño (Regresión)\n",
    "* Hacer que las aplicaciones reaccionen con comandos de voz (RNNs, CNNs)\n",
    "* Detectar fraudes de tarjetas de creditos (insolation forests, gaussian mixture models, y autoencoders)\n",
    "* Segmentar clientes basados en sus compras, entonces, tu puedes diseñar diferentes estrátegias de marketing para cada segmento. (Clustering, DBSCAN)\n",
    "* Representar un complejo set de información con grandes diménsiones, en un diagrama simple (dimensionality reduction techniques)\n",
    "* Recomendar productos que algunos clientes podrían estár interesados, basdado en compras anteriores (ANN)\n",
    "* Crear un bot inteligente para un juego (Reinforcement learning RL)"
   ]
  },
  {
   "attachments": {},
   "cell_type": "markdown",
   "metadata": {},
   "source": [
    "### Tipos de machine learning\n",
    "\n",
    "Existen muchos diferentes tipos de sistemas de machine learning, por eso, es útil clasificarlos en categorías generales, basados en el siguiente criterio\n",
    "* Como son supervisados en el entrenamiento (supervisado, nosupervisado, semi-supervisado, supervisado a el mismo, y otros)\n",
    "* Ya sea, incrementando o no la cantidad en el transcurso. (Online vs batch learning)\n",
    "* Ya sea, que trabajen por una simple comparación de nuevos puntos de información conociendo puntos de información, o por otro lado detectando patrones en el entrenamiento de para crear modelos predictivos (instance-based versus model-based learning)\n",
    "\n",
    "Los criterios no son exclusivos. Podemos combinarlos como nosotros queramos"
   ]
  },
  {
   "attachments": {},
   "cell_type": "markdown",
   "metadata": {},
   "source": [
    "#### Entrenamiento supervisado\n",
    "\n",
    "Aprendizaje supervisado: El set de entrenamiento contiene soluciones al problema, llamados **labels**. Una tarea tipica es **clasificar**. El filtrador de spam es un buen ejemplo, es entrenado con muchos ejemplos de correos que son (o no) considerados spam. Para que finalmente aprenda clasificar nuevos emails. Otra tarea tipica es predecir el valor del precio objetivo, como el precio de un auto, entregandolode **feature** (mileage, age,brand,etc). estas tareas se llaman regression (entregar un valor númerico). Para entrenar el sistema, Tienes que entregar ejemplos de autos, incluyendo tanto los **features**, como los valores objetivos .\n",
    "\n",
    "Nota: Las palabras target y label generalmente son conocidas como sinonimos en aprendizaje supervisado. Pero **target** es más común en tareas de regresión y **label** es más comúnu en tareas de clasificación."
   ]
  },
  {
   "attachments": {},
   "cell_type": "markdown",
   "metadata": {},
   "source": [
    "#### El aprendizaje no supervisado\n",
    "Utiliza información no etiquetada. La aplicación más conocida del aprendizaje no supervisado es la de clustering (Agrupamiento). El objetivo de la técnica de clustering es agrupar muestras.\n",
    "La reducción de dimensionalidad se usa habitualmente como una etapa de preprocesamiento en algún otro tipo de labores de machine learning en algún otro tipo de labores de machine learning, principalmente de clasificación o regresión. (Haría que funcionaran más rápido, ocuparan menos espacio en el disco y en algunos casos mejoraría el desempeño)\n",
    "\n",
    "Una importante tarea del aprendizaje no supervisado es la detección de una anomalia. Por ejemplo detectar una inusual transacción con la tarjeta de credito\n"
   ]
  },
  {
   "attachments": {},
   "cell_type": "markdown",
   "metadata": {},
   "source": [
    "#### El aprendizaje semi supervisado\n",
    "Trata con conjuntos de datos en los que una porción de los datos está etiquetada y el resto no. Normalmente, la cantidad de muestras etiquetadas es  mucho más pequeña que las no etiquetadas. La mayoría de los algoritmos de aprendizaje semi supervisado son una mezcla de métodos supervisados y no supervisados\n"
   ]
  },
  {
   "attachments": {},
   "cell_type": "markdown",
   "metadata": {},
   "source": [
    "#### El aprendizaje por esfuerzo\n",
    "Es un área innovadora y con un gran futuro, ya que está inspirada en mecanismos naturales. En este caso, el algoritmo de aprendizaje recibe información de varios como el, y luego haciendo unas modificaciones en su data, puede aprender de si mismo."
   ]
  },
  {
   "attachments": {},
   "cell_type": "markdown",
   "metadata": {},
   "source": [
    "#### El aprendizaje reforzado\n",
    "El sistema de aprendizaje llama a un **agente** qué observa el ambiente, selección y acciones de desempeño, y obtiene recompensas o pérdidas como recompensas negativas. Así va aprendiendo cuál es la mejor estratégia (llamada **policy** obtener la mayor recompensa en el menor tiempo). La **policy** define qué acción debe realizar el **agent** para una situación dada. Algunos ejemplos son DeepMind's, AlphaGo, etc.\n"
   ]
  },
  {
   "attachments": {},
   "cell_type": "markdown",
   "metadata": {},
   "source": [
    "#### Batch vs Online Learning\n",
    "Otro criterio utilizado en la clasificación de sistemas de machine learning es, si es que aprende incrementando con nueva información o al momento\n",
    "\n",
    "**Batch**: Es necesario tener todo el dataset para entrenar el modelo, es decir, si llega información nueva, hay que crear un nuevo modelo, con la nueva información y reentrena el modelo. Esto tiene varios problemas, por ejemplo, si tenemos mucha información reentrenar el modelo podría conllevar mucho tiempo.\n",
    "\n",
    "**Online learning**: Entrena el sistema incrementalmente entregando información en instancias secuenciales, indiviualmdente o en pequeños grupos llamados **mini-batches**. Cada paso de entrenamiento es rápido y barato. Así el sistema puede aprender de nueva información al vuelo.\n",
    "\n"
   ]
  },
  {
   "attachments": {},
   "cell_type": "markdown",
   "metadata": {},
   "source": [
    "#### Regresión lineal\n",
    "Los algoritmos de regresión lneal funcionan así: Entregar los ejemplos de entrenamiento, y con eso encontrar los mejores parametros para hacer la mejor predicción con la data entregada (model.fit). Esto se llama **training model**.\n",
    "\n",
    "Si todo sale bien, el modelo hará buenas predicciones. Si no es así es porque necesitaremos mas atributos (Tasa de emplado, salud, la contaminación del aire), o necesitamos conseguir información con mejor calidad, o seleccionar un modelo de regresión diferente (polinomial, por ejemplo)\n",
    "\n",
    "**En resumen**: \n",
    "* Estudiamos la información\n",
    "* Seleccionamos el modelo\n",
    "* Entrenamos el modelo con la **training data** (en algunos casos debemos ajustar los parámetros para minimizar el costo de la función)\n",
    "* Finalmente, el modelo es aplicado para hacer predicciones de nuevos casos (**inference**). Con esperanza d eque el modelo generalice bien"
   ]
  },
  {
   "attachments": {},
   "cell_type": "markdown",
   "metadata": {},
   "source": [
    "#### Errores\n",
    "\n",
    "**Cantidad insuficiente de datos de entrenamiento**: Para entrenar un modelo se necesitan muchos datos, así que si hay pocos, nunca se podrá crear un buen modelo,es decir, no se pueden generalizar bien los resultados\n",
    "\n",
    "**Datos de entrenamiento no representativos**: En función de generalizar bien, es crucial que los datos de entrenamiento sean representativos para poder generalizar bien los modelos.\n",
    "\n",
    "**Calidad pobre de información**: Obviamente si los datos de entrenamientos están llenos de errores, son valores atípicos, o estan llenos de ruido, sería complicado que el sistema detecte patrones ocultos. Es común trabajar en limpiar los datos de entrenamiento. Se pueden solucionar algunos problmeas de la siguiente forma\n",
    "* Si algunas instancias son claramente valores atípicos, podría ayudar descartar los datos.\n",
    "* Si algunas instancias tienen características inexistentes, debes decidir si ignorar esos atributos, las instancias, crear esos valores (a través de la media por ejemplo), o entrenar un modelo con una caraterística y otro modelo sin ella.\n",
    "\n",
    "**Características irrelevantes**: El sistema solo sera capaz de aprender si contiene datos de entrenamiento con características relevantes. Para seleccionar se pueden utilizar las siguientes reglas\n",
    "* Seleccionar Características (Seleccionar las Características más utiles para entrenar entre todas las que tiene)\n",
    "* Extracción de Características (Combinar Características existentes para producir la más útil)\n",
    "* Crear nuevas Características gracias a reunir nueva información.\n",
    "\n",
    "\n",
    "**Sobreajustar con nuestros datos de entrenamiento**: El modelo se comporta bien con los datos de entrenamiento, pero no lo generaliza muy bien, soluciones\n",
    "* Simplificar el modelo seleccionando uno con menos parametros, reduciendo el número de atributos en los datos de entrenamiento o restringiendo el modelo\n",
    "* Consiguiendo más datos de entrenamiento\n",
    "* Reduciendo el ruido en los datos de entrenamiento (arreglar errores en la información y quitar los datos atípicos)\n",
    "\n",
    "**poco ajuste en el modelo**: Ocurre cuando el modelo es demasiado simple para aprender los patrones de la información. Solucciones:\n",
    "* Seleccionar un modelo más poderoso, con otros parametros\n",
    "* Encontrar mejores Características para el algoritmo de aprendizaje\n",
    "* Reducir las restricciones del modelo (Reducir la regularización de hiperparametros)"
   ]
  },
  {
   "attachments": {},
   "cell_type": "markdown",
   "metadata": {},
   "source": [
    "#### Testing y validación\n",
    "\n",
    "Se recomienda recortar la data en dos grupos. **training set** y **test set**. Eso significa que hay que entrenar el modelo con el training set y testearlo con el test set. El error generado por los nuevos casos se llama **generalization error**, y gracias a la evaluación con los test set, podemos obtener una estimación de este error. El valor que entrega nos dice el rendimiento del modelo con instancias no conocidas. Si el error con los datos de entrenamiento es pequeño pero el error de la generalización es alto, significa que el modelo sufre de sobreajuste(overfitting).\n",
    "\n",
    "**TIP**: Es común usar el 80% de los datos para entrenar al modelo y guardar el 20% restante para testear (siempre hay que tener en cuenta el tamaño del dataset, a mayor cantidad de instancias menos porcentaje necesitaremos para testing)"
   ]
  },
  {
   "attachments": {},
   "cell_type": "markdown",
   "metadata": {},
   "source": [
    "#### Pasos para trabajar como data scientis\n",
    "\n",
    "1. Mirar una gran foto\n",
    "2. Conseguir la información\n",
    "3. Explorar y visualizar los datos para obtener perspectiva\n",
    "4. Explorar la información con algoritmos de machine learning\n",
    "5. Seleccionar un modelo y entrenarlo\n",
    "6. Terminar-mejorar el modelo\n",
    "7. Presentar la solución\n",
    "8. Lanzar, monitorear y manterner el sistema\n",
    "\n",
    "Un ejemplo completo se encuentra en el archivo `dataScientis.ipynb`"
   ]
  },
  {
   "attachments": {},
   "cell_type": "markdown",
   "metadata": {},
   "source": [
    "### Referencias\n",
    "\n",
    "* Géron, A. (2022). Hands-On Machine Learning with Scikit-Learn, Keras, and Tensorflow: Concepts, Tools, and Techniques to Build Intelligent Systems (3rd ed.). O’Reilly Media.  \n",
    "\n",
    "* Bobadilla, J. (2021). Machine Learning y Deep Learning: Usando Python, Scikit y Keras. Ediciones de la U.\n",
    "\n",
    "* Canal código máquina. https://www.youtube.com/@CodigoMaquina\n"
   ]
  },
  {
   "cell_type": "markdown",
   "metadata": {},
   "source": []
  }
 ],
 "metadata": {
  "kernelspec": {
   "display_name": "machine",
   "language": "python",
   "name": "python3"
  },
  "language_info": {
   "name": "python",
   "version": "3.11.0 | packaged by conda-forge | (main, Oct 25 2022, 06:12:32) [MSC v.1929 64 bit (AMD64)]"
  },
  "orig_nbformat": 4,
  "vscode": {
   "interpreter": {
    "hash": "6f10f77ae47c6c2dea42ee1c976c0c55abc820c5f377dba07e8479680b36518b"
   }
  }
 },
 "nbformat": 4,
 "nbformat_minor": 2
}
