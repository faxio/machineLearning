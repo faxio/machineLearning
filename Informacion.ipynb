{
 "cells": [
  {
   "attachments": {},
   "cell_type": "markdown",
   "metadata": {},
   "source": [
    "### ¿Qué es machine learning?"
   ]
  },
  {
   "attachments": {},
   "cell_type": "markdown",
   "metadata": {},
   "source": [
    "* Ciencia que hace que los ordenadores “aprendan” a partir de los datos\n",
    "* El programa toma ejemplos que son llamados **training set** para aprender\n",
    "* Cada **training example** es llamado **training instance**\n",
    "* La parte del machine learning que se encarga de aprender y entregar predicciones se llama **model**\n",
    "* Redes neuronales y arboles aleatorios son ejemplos de modelos.\n",
    "* Para saber la calidad del modelo existe un indicador llamado **accuracy**\n"
   ]
  },
  {
   "attachments": {},
   "cell_type": "markdown",
   "metadata": {},
   "source": [
    "### ¿Por qué utilizar machine learning?"
   ]
  },
  {
   "attachments": {},
   "cell_type": "markdown",
   "metadata": {},
   "source": [
    "Supongamos que quiere escribir un programa que filtre si un correo es spam, para hacerlo haría más o menos lo siguiente.\n",
    "* Primero veriamos como es un mensaje de spam, buscando patrónes\n",
    "* Escribiriamos un algoritmo de detección por cada patrón que encuentre\n",
    "* Testeariamos el programa, repitiendo el primer y segundo paso y luego lo lanzarimos\n",
    "\n",
    "El programa se volvería complejo, tendría muchas reglas complicadas, lo que lo haría difícil de mantener\n",
    "\n",
    "En contraste, con un detector de spam basado en técnicas de machine learning  \n",
    "Automáticamente aprendería que palabras y frases son buenas para crear una predicción de spam. Detectando patrónes inusuales en palabras utilizadas para entrenarlo. Comparado con el ejemplo anterior. El programa es mucho más corto, más facíl de mantener y con mejores resultados"
   ]
  },
  {
   "cell_type": "markdown",
   "metadata": {},
   "source": []
  },
  {
   "attachments": {},
   "cell_type": "markdown",
   "metadata": {},
   "source": [
    "### Referencias\n",
    "\n",
    "* Géron, A. (2022). Hands-On Machine Learning with Scikit-Learn, Keras, and Tensorflow: Concepts, Tools, and Techniques to Build Intelligent Systems (3rd ed.). O’Reilly Media.  \n",
    "\n",
    "* Bobadilla, J. (2021). Machine Learning y Deep Learning: Usando Python, Scikit y Keras. Ediciones de la U.\n",
    "\n",
    "* Canal código máquina. https://www.youtube.com/@CodigoMaquina\n"
   ]
  },
  {
   "cell_type": "markdown",
   "metadata": {},
   "source": []
  }
 ],
 "metadata": {
  "kernelspec": {
   "display_name": "Python 3",
   "language": "python",
   "name": "python3"
  },
  "language_info": {
   "name": "python",
   "version": "3.7.4 (tags/v3.7.4:e09359112e, Jul  8 2019, 20:34:20) [MSC v.1916 64 bit (AMD64)]"
  },
  "orig_nbformat": 4,
  "vscode": {
   "interpreter": {
    "hash": "338e530a72673fc8b1a686bafce54a476165df0ae2433e9bd60b306f49cea35f"
   }
  }
 },
 "nbformat": 4,
 "nbformat_minor": 2
}
