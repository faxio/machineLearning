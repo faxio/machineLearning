{
 "cells": [
  {
   "attachments": {},
   "cell_type": "markdown",
   "metadata": {},
   "source": [
    "### ¿Qué es machine learning?"
   ]
  },
  {
   "attachments": {},
   "cell_type": "markdown",
   "metadata": {},
   "source": [
    "* Ciencia que hace que los ordenadores “aprendan” a partir de los datos\n",
    "* El programa toma ejemplos que son llamados **training set** para aprender\n",
    "* Cada **training example** es llamado **training instance**\n",
    "* La parte del machine learning que se encarga de aprender y entregar predicciones se llama **model**\n",
    "* Redes neuronales y arboles aleatorios son ejemplos de modelos.\n",
    "* Para saber la calidad del modelo existe un indicador llamado **accuracy**\n"
   ]
  },
  {
   "attachments": {},
   "cell_type": "markdown",
   "metadata": {},
   "source": [
    "### ¿Por qué utilizar machine learning?"
   ]
  },
  {
   "attachments": {},
   "cell_type": "markdown",
   "metadata": {},
   "source": [
    "Supongamos que quiere escribir un programa que filtre si un correo es spam, para hacerlo haría más o menos lo siguiente.\n",
    "* Primero veriamos como es un mensaje de spam, buscando patrónes\n",
    "* Escribiriamos un algoritmo de detección por cada patrón que encuentre\n",
    "* Testeariamos el programa, repitiendo el primer y segundo paso y luego lo lanzarimos\n",
    "\n",
    "El programa se volvería complejo, tendría muchas reglas complicadas, lo que lo haría difícil de mantener\n",
    "\n",
    "En contraste, con un detector de spam basado en técnicas de machine learning  \n",
    "Automáticamente aprendería que palabras y frases son buenas para crear una predicción de spam. Detectando patrónes inusuales en palabras utilizadas para entrenarlo. Comparado con el ejemplo anterior. El programa es mucho más corto, más facíl de mantener y con mejores resultados\n",
    "\n",
    "¿Qué sucedería si el spammer recibe la noticia de que los emails que contienen \"4U\" son bloqueados?  \n",
    "El spammer intentaría escribir \"Cuatro U\". En el caso tradicional tendríamos que modificar el código y agregar la nueva bandera \"Cuatro U\". Si los spammers empiezan a trabajar sobre el algoritmo, Habrá que modificar el código para siempre.\n",
    "\n",
    "En contraste, Un filtrador de Spam basado en técnicas de machine learning automáticamente reconoce que \"Cuatro U\" es  un inusual patrón que los usuarios pueden etiquetar, Lo que provoca que se detecte sin nuestra intervención"
   ]
  },
  {
   "attachments": {},
   "cell_type": "markdown",
   "metadata": {},
   "source": [
    "Para resumir, machine learning es bueno para:\n",
    "\n",
    "* Problemas que tienen soluciones que implican una larga lista de reglas.\n",
    "* Problemas complejos que con soluciones tradicional tienen un desempeño no muy bueno\n",
    "* Entornos cambiantes\n",
    "* Tomar eventos sobre problemas complejos y grandes cantidades de información"
   ]
  },
  {
   "attachments": {},
   "cell_type": "markdown",
   "metadata": {},
   "source": [
    "**Algunos ejemplos de tareas de machine learning**:\n",
    "\n",
    "* Analizar imagnes de productos que pertenecne a una línea de producción, para posteriormente clasificarlos (usualmente redes neuronales convolusionales )\n",
    "* Detectar tumores en scaneos de cerebros (usualmente redes neuronales convolusionales también conocidos como CNNs)\n",
    "* Clasificación automática de nuevos artículos (Natural language processing NLP o CNNs como también redes neuronales recurrentes RNNs)\n",
    "* Detectar automáticamente comentarios ofensivos en discusiones de foros. (NLP)\n",
    "* Resumir grandes documentos automáticamente. (NLP)\n",
    "* Crear un chatbot o un asistente personal. (NLP y también Natural language understanding NLU)\n",
    "* Pronostico de ingresos para el próximo año, basado en diferentes metricas de desempeño (Regresión)\n",
    "* Hacer que las aplicaciones reaccionen con comandos de voz (RNNs, CNNs)\n",
    "* Detectar fraudes de tarjetas de creditos (insolation forests, gaussian mixture models, y autoencoders)\n",
    "* Segmentar clientes basados en sus compras, entonces, tu puedes diseñar diferentes estrátegias de marketing para cada segmento. (Clustering, DBSCAN)\n",
    "* Representar un complejo set de información con grandes diménsiones, en un diagrama simple (dimensionality reduction techniques)\n",
    "* Recomendar productos que algunos clientes podrían estár interesados, basdado en compras anteriores (ANN)\n",
    "* Crear un bot inteligente para un juego (Reinforcement learning RL)"
   ]
  },
  {
   "attachments": {},
   "cell_type": "markdown",
   "metadata": {},
   "source": [
    "### Tipos de machine learning\n",
    "\n",
    "Existen muchos diferentes tipos de sistemas de machine learning, por eso, es útil clasificarlos en categorías generales, basados en el siguiente criterio\n",
    "* Como son supervisados en el entrenamiento (supervisado, nosupervisado, semi-supervisado, supervisado a el mismo, y otros)\n",
    "* Ya sea, incrementando o no la cantidad en el transcurso. (Online vs batch learning)\n",
    "* Ya sea, que trabajen por una simple comparación de nuevos puntos de información conociendo puntos de información, o por otro lado detectando patrones en el entrenamiento de para crear modelos predictivos (instance-based versus model-based learning)\n",
    "\n",
    "Los criterios no son exclusivos. Podemos combinarlos como nosotros queramos"
   ]
  },
  {
   "attachments": {},
   "cell_type": "markdown",
   "metadata": {},
   "source": [
    "#### Entrenamiento supervisado\n",
    "\n",
    "Aprendizaje supervisado: El set de entrenamiento contiene soluciones al problema, llamados **labels**. Una tarea tipica es **clasificar**. El filtrador de spam es un buen ejemplo, es entrenado con muchos ejemplos de correos que son (o no) considerados spam. Para que finalmente aprenda clasificar nuevos emails. Otra tarea tipica es predecir el valor del precio objetivo, como el precio de un auto, entregandolode **feature** (mileage, age,brand,etc). estas tareas se llaman regression (entregar un valor númerico). Para entrenar el sistema, Tienes que entregar ejemplos de autos, incluyendo tanto los **features**, como los valores objetivos .\n",
    "\n",
    "Nota: Las palabras target y label generalmente son conocidas como sinonimos en aprendizaje supervisado. Pero **target** es más común en tareas de regresión y **label** es más comúnu en tareas de clasificación."
   ]
  },
  {
   "attachments": {},
   "cell_type": "markdown",
   "metadata": {},
   "source": [
    "#### El aprendizaje no supervisado\n",
    "Utiliza información no etiquetada. La aplicación más conocida del aprendizaje no supervisado es la de clustering (Agrupamiento). El objetivo de la técnica de clustering es agrupar muestras.\n",
    "La reducción de dimensionalidad se usa habitualmente como una etapa de preprocesamiento en algún otro tipo de labores de machine learning en algún otro tipo de labores de machine learning, principalmente de clasificación o regresión. (Haría que funcionaran más rápido, ocuparan menos espacio en el disco y en algunos casos mejoraría el desempeño)\n",
    "\n",
    "Una importante tarea del aprendizaje no supervisado es la detección de una anomalia. Por ejemplo detectar una inusual transacción con la tarjeta de credito\n"
   ]
  },
  {
   "attachments": {},
   "cell_type": "markdown",
   "metadata": {},
   "source": [
    "#### El aprendizaje semi supervisado\n",
    "Trata con conjuntos de datos en los que una porción de los datos está etiquetada y el resto no. Normalmente, la cantidad de muestras etiquetadas es  mucho más pequeña que las no etiquetadas. La mayoría de los algoritmos de aprendizaje semi supervisado son una mezcla de métodos supervisados y no supervisados\n"
   ]
  },
  {
   "attachments": {},
   "cell_type": "markdown",
   "metadata": {},
   "source": [
    "#### El aprendizaje por esfuerzo\n",
    "Es un área innovadora y con un gran futuro, ya que está inspirada en mecanismos naturales. En este caso, el algoritmo de aprendizaje recibe información de un entorno real o simulado. Cuando el sistema realiza una acción es recompensado o penalizado, tal y como pasa con los seres vivos.\n",
    "- 38"
   ]
  },
  {
   "attachments": {},
   "cell_type": "markdown",
   "metadata": {},
   "source": [
    "### Referencias\n",
    "\n",
    "* Géron, A. (2022). Hands-On Machine Learning with Scikit-Learn, Keras, and Tensorflow: Concepts, Tools, and Techniques to Build Intelligent Systems (3rd ed.). O’Reilly Media.  \n",
    "\n",
    "* Bobadilla, J. (2021). Machine Learning y Deep Learning: Usando Python, Scikit y Keras. Ediciones de la U.\n",
    "\n",
    "* Canal código máquina. https://www.youtube.com/@CodigoMaquina\n"
   ]
  },
  {
   "cell_type": "markdown",
   "metadata": {},
   "source": []
  }
 ],
 "metadata": {
  "kernelspec": {
   "display_name": "machine",
   "language": "python",
   "name": "python3"
  },
  "language_info": {
   "name": "python",
   "version": "3.11.0 | packaged by conda-forge | (main, Oct 25 2022, 06:12:32) [MSC v.1929 64 bit (AMD64)]"
  },
  "orig_nbformat": 4,
  "vscode": {
   "interpreter": {
    "hash": "6f10f77ae47c6c2dea42ee1c976c0c55abc820c5f377dba07e8479680b36518b"
   }
  }
 },
 "nbformat": 4,
 "nbformat_minor": 2
}
