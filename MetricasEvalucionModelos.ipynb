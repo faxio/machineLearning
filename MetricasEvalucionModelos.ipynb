{
 "cells": [
  {
   "attachments": {},
   "cell_type": "markdown",
   "metadata": {},
   "source": [
    "Cuando generamos un modelo, debemos validar que tan bueno es nuestro , para esto existen diferentes metricas, siendo la primera de ellas\n",
    "### Error absoluto máximo (M)\n",
    "\n",
    "* El error absoluto máximo busca el mayor error que exista en el modelo\n",
    "* Al error se refiere a la diferencia entre el valor obtenido por el modelo y el valor real\n",
    "* Para calcularlo scikit-learn nos proporciona la función **max_error**"
   ]
  },
  {
   "cell_type": "code",
   "execution_count": null,
   "metadata": {},
   "outputs": [
    {
     "data": {
      "text/plain": [
       "10"
      ]
     },
     "metadata": {},
     "output_type": "display_data"
    }
   ],
   "source": [
    "from sklearn.metrics import max_error\n",
    "\n",
    "# Ejemplo de como usar el max_error\n",
    "y_verdadero = [1,2,3,4,5]\n",
    "y_predict = [1,2,3,4,-5]\n",
    "\n",
    "max_error(y_verdadero,y_predict)"
   ]
  },
  {
   "attachments": {},
   "cell_type": "markdown",
   "metadata": {},
   "source": [
    "### Error absoluto medio (MAE)\n"
   ]
  },
  {
   "cell_type": "code",
   "execution_count": null,
   "metadata": {},
   "outputs": [
    {
     "data": {
      "text/plain": [
       "2.0"
      ]
     },
     "metadata": {},
     "output_type": "display_data"
    }
   ],
   "source": [
    "from sklearn.metrics import mean_absolute_error\n",
    "\n",
    "# Ejemplo de como usar el mean_absolute_error\n",
    "y_verdadero = [1,2,3,4,5]\n",
    "y_predict = [1,2,3,4,-5]\n",
    "\n",
    "mean_absolute_error(y_verdadero,y_predict)"
   ]
  },
  {
   "attachments": {},
   "cell_type": "markdown",
   "metadata": {},
   "source": [
    "### Error cuadratico medio (MSE)\n"
   ]
  },
  {
   "cell_type": "code",
   "execution_count": 1,
   "metadata": {},
   "outputs": [
    {
     "data": {
      "text/plain": [
       "20.0"
      ]
     },
     "execution_count": 1,
     "metadata": {},
     "output_type": "execute_result"
    }
   ],
   "source": [
    "from sklearn.metrics import mean_squared_error\n",
    "\n",
    "# Ejemplo de como usar el mean_absolute_error\n",
    "y_verdadero = [1,2,3,4,5]\n",
    "y_predict = [1,2,3,4,-5]\n",
    "\n",
    "mean_squared_error(y_verdadero,y_predict)"
   ]
  },
  {
   "attachments": {},
   "cell_type": "markdown",
   "metadata": {},
   "source": [
    "### Suma de los cuadrados de los residuos (RSS)\n"
   ]
  },
  {
   "cell_type": "code",
   "execution_count": 2,
   "metadata": {},
   "outputs": [
    {
     "data": {
      "text/plain": [
       "100.0"
      ]
     },
     "execution_count": 2,
     "metadata": {},
     "output_type": "execute_result"
    }
   ],
   "source": [
    "from sklearn.metrics import mean_squared_error\n",
    "\n",
    "# Ejemplo de como usar el mean_absolute_error\n",
    "y_verdadero = [1,2,3,4,5]\n",
    "y_predict = [1,2,3,4,-5]\n",
    "\n",
    "mean_squared_error(y_verdadero,y_predict)*len(y_predict)"
   ]
  },
  {
   "attachments": {},
   "cell_type": "markdown",
   "metadata": {},
   "source": [
    "### Raíz cuadrada del error cuadrático medio (RMSE)\n",
    "\n",
    "* Es sumamente utilizado, ya que entrega el error real"
   ]
  },
  {
   "cell_type": "code",
   "execution_count": 3,
   "metadata": {},
   "outputs": [
    {
     "data": {
      "text/plain": [
       "4.47213595499958"
      ]
     },
     "execution_count": 3,
     "metadata": {},
     "output_type": "execute_result"
    }
   ],
   "source": [
    "from sklearn.metrics import mean_squared_error\n",
    "\n",
    "# Ejemplo de como usar el mean_absolute_error\n",
    "y_verdadero = [1,2,3,4,5]\n",
    "y_predict = [1,2,3,4,-5]\n",
    "\n",
    "mean_squared_error(y_verdadero,y_predict, squared=False)"
   ]
  },
  {
   "attachments": {},
   "cell_type": "markdown",
   "metadata": {},
   "source": [
    "### $R^2$ (Coeficiente de determinación)\n",
    "\n",
    "* Solo se puede utilizar esta metrica en modelos de regresión lineales"
   ]
  },
  {
   "cell_type": "code",
   "execution_count": 4,
   "metadata": {},
   "outputs": [
    {
     "data": {
      "text/plain": [
       "-9.0"
      ]
     },
     "execution_count": 4,
     "metadata": {},
     "output_type": "execute_result"
    }
   ],
   "source": [
    "from sklearn.metrics import r2_score\n",
    "\n",
    "# Ejemplo de como usar el mean_absolute_error\n",
    "y_verdadero = [1,2,3,4,5]\n",
    "y_predict = [1,2,3,4,-5]\n",
    "\n",
    "r2_score(y_verdadero,y_predict)"
   ]
  },
  {
   "attachments": {},
   "cell_type": "markdown",
   "metadata": {},
   "source": [
    "Los modelos de aprendizaje de máquina que creamos deben ser evaluados adecuadamente, ya que podríamos sobreestimar. Por eso utilizaremos la técnica de validación cruzada.  \n",
    "Cuando uno recien empieza, para probar que el modelo predice correctamente, lo que hacemos es testear con los mismo valores que uno crea el modelo, lo que no presenta mucha validez ya que por ejemplo es como hacer una prueba a un alumno, pero antes haber presentado las respuestas de la prueba a dicho alumno. Probablemente las respuestas sean correctas, o les vaya muy bien, porque las preguntas son las mismas. Por eso para entrenar es necesario separar los datos en conjuntos:\n",
    "* Entrenamiento\n",
    "* Prueba\n",
    "* Validación -> Se utiliza para ajustar los hiper-parámetros, ya que hay casos donde el modelo se adapta demasiado a los datos, y queremos que por ejemplo en el caso de las pruebas, el modelo sea capaz de predecir que tan bien les ira en diferentes pruebas.\n",
    "\n",
    "La **Validación cruzada** permite crear iteraciones en nuestros datos (idealmente 5 a 10), es decir, subidivide los datos en k-grupos y los evalua k-veces, haciendo que cada subgrupo sea utilizado como una evaluación de los hiper-parametros. En algunos casos se utiliza el 80% de los datos para hacer esto, y el 20% restante para evaluar el modelo"
   ]
  },
  {
   "cell_type": "code",
   "execution_count": null,
   "metadata": {},
   "outputs": [],
   "source": []
  }
 ],
 "metadata": {
  "kernelspec": {
   "display_name": "machine",
   "language": "python",
   "name": "python3"
  },
  "language_info": {
   "codemirror_mode": {
    "name": "ipython",
    "version": 3
   },
   "file_extension": ".py",
   "mimetype": "text/x-python",
   "name": "python",
   "nbconvert_exporter": "python",
   "pygments_lexer": "ipython3",
   "version": "3.11.0 | packaged by conda-forge | (main, Oct 25 2022, 06:12:32) [MSC v.1929 64 bit (AMD64)]"
  },
  "orig_nbformat": 4,
  "vscode": {
   "interpreter": {
    "hash": "6f10f77ae47c6c2dea42ee1c976c0c55abc820c5f377dba07e8479680b36518b"
   }
  }
 },
 "nbformat": 4,
 "nbformat_minor": 2
}
