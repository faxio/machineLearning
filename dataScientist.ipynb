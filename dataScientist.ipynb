{
 "cells": [
  {
   "attachments": {},
   "cell_type": "markdown",
   "metadata": {},
   "source": [
    "### Se utilizará el dataset `California Housing Prices de StatLib repository`\n",
    "\n",
    "EL dataset tiene información sobre el censo de 1990 en California"
   ]
  },
  {
   "attachments": {},
   "cell_type": "markdown",
   "metadata": {},
   "source": [
    "### 1. Mirar una gran foto\n",
    "\n",
    "Bienvenido a la corporación de machine learning orientada a casas. Tu primera tarea es usar la información del censo de California para crear un modelo sobre el precio de las casas en el estado. Este set incluye metricas como la población, ingreso medio, y el precio medio de casas por cada grupo de bloques en California. Lo bloques de grupos son pequeñas unidades geográficas que se publicaron en el `US Census Bureu publishes` (un grupo de bloques tipicamente tiene 600 a 3000 personas). Que llamaremos distritos de forma corta. Es importante el objetivo ya que nos permite saber como podemos enfrentarnos al problema. Que modelo escoger, que validación utilizar para validar el modelo, y cuanto esfuerzo colocar en esto.\n",
    "\n",
    "El jefe podría decirnos que quiere la salida del modelo (La predicción sobre el precio medio de casas en un distrito), el dice que la razón de esto es que en estos momentos expertos hacen las estimaciones, pero, hay casos donde es muy complejo y no pueden hacerlo. .73"
   ]
  },
  {
   "cell_type": "code",
   "execution_count": null,
   "metadata": {},
   "outputs": [],
   "source": []
  }
 ],
 "metadata": {
  "kernelspec": {
   "display_name": "Python 3",
   "language": "python",
   "name": "python3"
  },
  "language_info": {
   "name": "python",
   "version": "3.7.4 (tags/v3.7.4:e09359112e, Jul  8 2019, 20:34:20) [MSC v.1916 64 bit (AMD64)]"
  },
  "orig_nbformat": 4,
  "vscode": {
   "interpreter": {
    "hash": "338e530a72673fc8b1a686bafce54a476165df0ae2433e9bd60b306f49cea35f"
   }
  }
 },
 "nbformat": 4,
 "nbformat_minor": 2
}
